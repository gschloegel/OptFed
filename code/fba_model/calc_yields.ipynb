{
 "cells": [
  {
   "cell_type": "code",
   "execution_count": 1,
   "id": "c591d089-244b-473a-90b0-cb6270a26474",
   "metadata": {},
   "outputs": [],
   "source": [
    "import numpy as np\n",
    "import cobra\n",
    "import snek"
   ]
  },
  {
   "cell_type": "code",
   "execution_count": 2,
   "id": "3c8c8627-4c2a-4d5f-afa1-cd2c3a70f6da",
   "metadata": {},
   "outputs": [],
   "source": [
    "model = cobra.io.read_sbml_model('iEC1356_Bl21DE3.xml')"
   ]
  },
  {
   "cell_type": "code",
   "execution_count": 3,
   "id": "a2e906a4-f33e-45b8-bc2d-aa9b1e4d1d65",
   "metadata": {},
   "outputs": [
    {
     "data": {
      "text/html": [
       "\n",
       "        <table>\n",
       "            <tr>\n",
       "                <td><strong>Name</strong></td>\n",
       "                <td>iEC1356_Bl21DE3</td>\n",
       "            </tr><tr>\n",
       "                <td><strong>Memory address</strong></td>\n",
       "                <td>7faeee42aeb0</td>\n",
       "            </tr><tr>\n",
       "                <td><strong>Number of metabolites</strong></td>\n",
       "                <td>1918</td>\n",
       "            </tr><tr>\n",
       "                <td><strong>Number of reactions</strong></td>\n",
       "                <td>2740</td>\n",
       "            </tr><tr>\n",
       "                <td><strong>Number of genes</strong></td>\n",
       "                <td>1356</td>\n",
       "            </tr><tr>\n",
       "                <td><strong>Number of groups</strong></td>\n",
       "                <td>0</td>\n",
       "            </tr><tr>\n",
       "                <td><strong>Objective expression</strong></td>\n",
       "                <td>1.0*BIOMASS_Ec_iJO1366_core_53p95M - 1.0*BIOMASS_Ec_iJO1366_core_53p95M_reverse_5c8b1</td>\n",
       "            </tr><tr>\n",
       "                <td><strong>Compartments</strong></td>\n",
       "                <td>cytosol, periplasm, extracellular space</td>\n",
       "            </tr>\n",
       "          </table>"
      ],
      "text/plain": [
       "<Model iEC1356_Bl21DE3 at 0x7faeee42aeb0>"
      ]
     },
     "execution_count": 3,
     "metadata": {},
     "output_type": "execute_result"
    }
   ],
   "source": [
    "model"
   ]
  },
  {
   "cell_type": "code",
   "execution_count": 4,
   "id": "ec530b62-8c7a-4a83-a56f-9720fcf3d45b",
   "metadata": {},
   "outputs": [
    {
     "data": {
      "text/html": [
       "<div>\n",
       "<style scoped>\n",
       "    .dataframe tbody tr th:only-of-type {\n",
       "        vertical-align: middle;\n",
       "    }\n",
       "\n",
       "    .dataframe tbody tr th {\n",
       "        vertical-align: top;\n",
       "    }\n",
       "\n",
       "    .dataframe thead th {\n",
       "        text-align: right;\n",
       "    }\n",
       "</style>\n",
       "<table border=\"1\" class=\"dataframe\">\n",
       "  <thead>\n",
       "    <tr style=\"text-align: right;\">\n",
       "      <th></th>\n",
       "      <th>name</th>\n",
       "      <th>id</th>\n",
       "      <th>lower_bound</th>\n",
       "      <th>upper_bound</th>\n",
       "    </tr>\n",
       "  </thead>\n",
       "  <tbody>\n",
       "    <tr>\n",
       "      <th>ATPM</th>\n",
       "      <td>ATP maintenance requirement</td>\n",
       "      <td>ATPM</td>\n",
       "      <td>3.15</td>\n",
       "      <td>1000.0</td>\n",
       "    </tr>\n",
       "    <tr>\n",
       "      <th>EX_cbl1_e</th>\n",
       "      <td>Cob(I)alamin exchange</td>\n",
       "      <td>EX_cbl1_e</td>\n",
       "      <td>-0.01</td>\n",
       "      <td>1000.0</td>\n",
       "    </tr>\n",
       "    <tr>\n",
       "      <th>EX_glc__D_e</th>\n",
       "      <td>D-Glucose exchange</td>\n",
       "      <td>EX_glc__D_e</td>\n",
       "      <td>-10.00</td>\n",
       "      <td>1000.0</td>\n",
       "    </tr>\n",
       "    <tr>\n",
       "      <th>CAT</th>\n",
       "      <td>Catalase</td>\n",
       "      <td>CAT</td>\n",
       "      <td>0.00</td>\n",
       "      <td>0.0</td>\n",
       "    </tr>\n",
       "    <tr>\n",
       "      <th>DHPTDNR</th>\n",
       "      <td>Dihydropteridine reductase</td>\n",
       "      <td>DHPTDNR</td>\n",
       "      <td>0.00</td>\n",
       "      <td>0.0</td>\n",
       "    </tr>\n",
       "    <tr>\n",
       "      <th>DHPTDNRN</th>\n",
       "      <td>Dihydropteridine reductase (NADH)</td>\n",
       "      <td>DHPTDNRN</td>\n",
       "      <td>0.00</td>\n",
       "      <td>0.0</td>\n",
       "    </tr>\n",
       "    <tr>\n",
       "      <th>FHL</th>\n",
       "      <td>Formate-hydrogen lyase</td>\n",
       "      <td>FHL</td>\n",
       "      <td>0.00</td>\n",
       "      <td>0.0</td>\n",
       "    </tr>\n",
       "    <tr>\n",
       "      <th>SUCMALtpp</th>\n",
       "      <td>Succinate:malate antiporter (periplasm)</td>\n",
       "      <td>SUCMALtpp</td>\n",
       "      <td>0.00</td>\n",
       "      <td>0.0</td>\n",
       "    </tr>\n",
       "    <tr>\n",
       "      <th>SUCTARTtpp</th>\n",
       "      <td>Succinate:D-tartrate antiporter (periplasm)</td>\n",
       "      <td>SUCTARTtpp</td>\n",
       "      <td>0.00</td>\n",
       "      <td>0.0</td>\n",
       "    </tr>\n",
       "    <tr>\n",
       "      <th>SUCASPtpp</th>\n",
       "      <td>Succinate:aspartate antiporter (periplasm)</td>\n",
       "      <td>SUCASPtpp</td>\n",
       "      <td>0.00</td>\n",
       "      <td>0.0</td>\n",
       "    </tr>\n",
       "    <tr>\n",
       "      <th>SPODM</th>\n",
       "      <td>Superoxide dismutase</td>\n",
       "      <td>SPODM</td>\n",
       "      <td>0.00</td>\n",
       "      <td>0.0</td>\n",
       "    </tr>\n",
       "    <tr>\n",
       "      <th>SUCFUMtpp</th>\n",
       "      <td>Succinate:fumarate antiporter (periplasm)</td>\n",
       "      <td>SUCFUMtpp</td>\n",
       "      <td>0.00</td>\n",
       "      <td>0.0</td>\n",
       "    </tr>\n",
       "    <tr>\n",
       "      <th>SPODMpp</th>\n",
       "      <td>Superoxide dismutase</td>\n",
       "      <td>SPODMpp</td>\n",
       "      <td>0.00</td>\n",
       "      <td>0.0</td>\n",
       "    </tr>\n",
       "  </tbody>\n",
       "</table>\n",
       "</div>"
      ],
      "text/plain": [
       "                                                    name           id  \\\n",
       "ATPM                         ATP maintenance requirement         ATPM   \n",
       "EX_cbl1_e                          Cob(I)alamin exchange    EX_cbl1_e   \n",
       "EX_glc__D_e                           D-Glucose exchange  EX_glc__D_e   \n",
       "CAT                                             Catalase          CAT   \n",
       "DHPTDNR                       Dihydropteridine reductase      DHPTDNR   \n",
       "DHPTDNRN               Dihydropteridine reductase (NADH)     DHPTDNRN   \n",
       "FHL                               Formate-hydrogen lyase          FHL   \n",
       "SUCMALtpp        Succinate:malate antiporter (periplasm)    SUCMALtpp   \n",
       "SUCTARTtpp   Succinate:D-tartrate antiporter (periplasm)   SUCTARTtpp   \n",
       "SUCASPtpp     Succinate:aspartate antiporter (periplasm)    SUCASPtpp   \n",
       "SPODM                               Superoxide dismutase        SPODM   \n",
       "SUCFUMtpp      Succinate:fumarate antiporter (periplasm)    SUCFUMtpp   \n",
       "SPODMpp                             Superoxide dismutase      SPODMpp   \n",
       "\n",
       "             lower_bound  upper_bound  \n",
       "ATPM                3.15       1000.0  \n",
       "EX_cbl1_e          -0.01       1000.0  \n",
       "EX_glc__D_e       -10.00       1000.0  \n",
       "CAT                 0.00          0.0  \n",
       "DHPTDNR             0.00          0.0  \n",
       "DHPTDNRN            0.00          0.0  \n",
       "FHL                 0.00          0.0  \n",
       "SUCMALtpp           0.00          0.0  \n",
       "SUCTARTtpp          0.00          0.0  \n",
       "SUCASPtpp           0.00          0.0  \n",
       "SPODM               0.00          0.0  \n",
       "SUCFUMtpp           0.00          0.0  \n",
       "SPODMpp             0.00          0.0  "
      ]
     },
     "execution_count": 4,
     "metadata": {},
     "output_type": "execute_result"
    }
   ],
   "source": [
    "snek.analysis.get_constrained_reactions(model)"
   ]
  },
  {
   "cell_type": "markdown",
   "id": "c30b45ca-d75a-4b61-a3ca-159b6f158d2c",
   "metadata": {},
   "source": [
    "# Include Protein Synthesis Reaction in the Model"
   ]
  },
  {
   "cell_type": "code",
   "execution_count": 5,
   "id": "cebd57a7-a0b1-4374-a083-b98fb613649e",
   "metadata": {},
   "outputs": [
    {
     "name": "stdout",
     "output_type": "stream",
     "text": [
      "(18, 2)\n"
     ]
    }
   ],
   "source": [
    "from collections import Counter\n",
    "import pandas as pd\n",
    "\n",
    "# sequence beta lactamase https://www.uniprot.org/uniprotkb/B5LY47/entry\n",
    "# seq = 'AACIPLLLGSAPLYAQTSAVQQKLAALEKSSGGRLGVALIDTADNTQVLYRGDERFPMCSTSKVMAAAAVLKQSETQKQLLNQPVEIKPADLVNYNPIAEKHVNGTMTLAELSAAALQYSDNTAMNKLIAQLGGPGGVTAFARAIGDETFRLDRTEPTLNTAIPGDPRDTTTPRAMAQTLRQLTLGHALGETQRAQLVTWLKGNTTGAASIRAGLPTSWTVGDKTGSGGYGTTNDIAVIWPQGRAPLVLVTYFTQPQQNAESRRDVLASAARIIAEGL'\n",
    "seq = \"MASVENKEETPETPETDSEEEVTIKANLIFANGSTQTAEFKGTFEKATSEAYAYADTLKKDNGEYTVDVADKGYTLNIKFAGKEKTPEEPKEEVTIKANLIYADGKTQTAEFKGTFEEATAEAYRYADALKKDNGEYTVDVADKGYTLNIKFAGKEKTPEEPKEEVTIKANLIYADGKTQTAEFKGTFEEATAEAYRYADLLAKENGKYTVDVADKGYTLNIKFAGKEKTPEEPKEEVTIKANLIYADGKTQTAEFKGTFAEATAEAYRYADLLAKENGKYTADLEDGGYTINIRFAGKKVDEKPEEKEQVTIKENIYFEDGTVQTATFKGTFAEATAEAYRYADLLSKEHGKYTADLEDGGYTINIRFAGHHHHHH\"\n",
    "dic = Counter(seq)\n",
    "# create a nice data frame\n",
    "new = {}\n",
    "for i, j in enumerate(dic.items()):\n",
    "    new[i] = j\n",
    "AAs = pd.DataFrame(new,index=['AA','#total']).T\n",
    "print(AAs.shape)"
   ]
  },
  {
   "cell_type": "code",
   "execution_count": 6,
   "id": "8d7bedbf-81f5-432d-9744-9eea72e73026",
   "metadata": {},
   "outputs": [],
   "source": [
    "# Naming conventions for P. pastoris \n",
    "names = {'A': 'ala__L_c','C': 'cys__L_c','D': 'asp__L_c','E': 'glu__L_c','F': 'phe__L_c','G': 'gly_c',\n",
    "             'H': 'his__L_c','I': 'ile__L_c','K': 'lys__L_c','L': 'leu__L_c','M': 'met__L_c','N': 'asn__L_c',\n",
    "             'P': 'pro__L_c','Q': 'gln__L_c','R': 'arg__L_c','S': 'ser__L_c','T': 'thr__L_c','V': 'val__L_c',\n",
    "             'W': 'trp__L_c','Y': 'tyr__L_c'} \n",
    "\n",
    "def calculate_stoichiometry(AAdf,protein_name='protein_c'):\n",
    "    \"\"\"\n",
    "    Calculates the protein synthesis reaction stoichiometry.\n",
    "    \n",
    "    Parameters\n",
    "    ----------\n",
    "        AAdf   : pandas.DataFrame with at least 2 columns.\n",
    "                 Column labeled \"AA\" contains the 1-letter code for all amino acids of the protein.\n",
    "                 Column labeled \"#total\" contains the total number of the respective amino acid in the protein.\n",
    "    Returns\n",
    "    -------\n",
    "        stoichiometry : dic\n",
    "                        Stoichiometry that can be parsed to Cobra.core.reactions.Reaction.add_metabolites()\n",
    "    \"\"\"\n",
    "    \n",
    "    stoichiometry ={}\n",
    "    # add all amino acids to reaction\n",
    "    sum_aa = 0\n",
    "    for i in AAdf.index:\n",
    "        if AAdf.loc[i,'#total'] != 0:\n",
    "            sum_aa += AAdf.loc[i,'#total']\n",
    "            stoichiometry[names[AAdf.loc[i,'AA']]] = float(-AAdf.loc[i,'#total'])\n",
    "\n",
    "    # add ATP consumption to reaction\n",
    "    stoichiometry['atp_c'] = -sum_aa * 4.324 # [1]\n",
    "    stoichiometry['h2o_c'] = -sum_aa * 4.324 # [1]\n",
    "    stoichiometry['adp_c'] =  sum_aa * 4.324 # [1]\n",
    "    stoichiometry['h_c'  ] =  sum_aa * 4.324 # [1]\n",
    "    stoichiometry['pi_c' ] =  sum_aa * 4.324 # [1]\n",
    "    # per peptide bond 1 H2O is produced\n",
    "    stoichiometry['h2o_c'] += sum_aa -1\n",
    "    \n",
    "    # add protein metabolite to reaction\n",
    "    stoichiometry[protein_name] = 1\n",
    "    \n",
    "    # [1] Cunningham, D. S., Koepsel, R. R., Ataai, M. M., & Domach, M. M. (2009). \n",
    "    # Factors affecting plasmid production in Escherichia coli from a resource \n",
    "    # allocation standpoint. Microbial Cell Factories, 8(1), 1-17.\n",
    "    \n",
    "    return stoichiometry\n",
    "\n",
    "def include_protein(model,AAdf):\n",
    "    '''\n",
    "    Includes protein synthesis and sink reaktion in model.\n",
    "    \n",
    "    Parameters\n",
    "    ----------\n",
    "        AAdf   : pandas.DataFrame with at least 2 columns.\n",
    "                 Column labeled \"AA\" contains the 1-letter code for all amino acids of the protein.\n",
    "                 Column labeled \"#total\" contains the total number of the respective amino acid in the protein.\n",
    "    '''\n",
    "    \n",
    "    # STEP 1: CREATE REACTION\n",
    "    protein_synthesis = cobra.Reaction('protein_synthesis')\n",
    "    protein_synthesis.name = \"Synthesis of POI\"\n",
    "    protein_synthesis.subsystem = 'Protein Production'\n",
    "    protein_synthesis.lower_bound = 0\n",
    "    protein_synthesis.upper_bound = 1000\n",
    "    model.add_reactions([protein_synthesis])\n",
    "    \n",
    "    # STEP 2: CREATE PROTEIN METABOLITE\n",
    "    protein_c = cobra.Metabolite('protein_c')\n",
    "    protein_c.formula = snek.elements.get_protein_formula(seq)\n",
    "    protein_c.charge =  0\n",
    "    protein_c.name = 'protein'\n",
    "    protein_c.compartment = 'c'\n",
    "    model.add_metabolites([protein_c])\n",
    "    \n",
    "    # STEP 3: Add STOICHIOMETRY to REACTION (makes use of 'protein_c' and has therefore to be step #3)\n",
    "    model.reactions.protein_synthesis.add_metabolites(calculate_stoichiometry(AAdf))\n",
    "    \n",
    "    # STEP 4: Check MASS BALANCE\n",
    "    balance = model.reactions.protein_synthesis.check_mass_balance()\n",
    "    for element in balance:\n",
    "        assert np.isclose(balance[element],0,atol=model.tolerance,rtol=0), f'Element \"{element}\" Not Mass Balanced: {balance[element]}'\n",
    "    \n",
    "    # STEP 5: ADD SINK REACTION\n",
    "    model.add_boundary(model.metabolites.protein_c,type='sink',lb=0,ub=1000)\n",
    "    \n",
    "    return"
   ]
  },
  {
   "cell_type": "code",
   "execution_count": 7,
   "id": "fd50a8a5-f8aa-4c83-b441-e22b91bff1e6",
   "metadata": {},
   "outputs": [
    {
     "name": "stdout",
     "output_type": "stream",
     "text": [
      "2740 0.9767013604875502\n",
      "2742 0.9767013604875532\n"
     ]
    }
   ],
   "source": [
    "with model:\n",
    "    print(len(model.reactions),model.slim_optimize())\n",
    "    include_protein(model,AAs)\n",
    "    print(len(model.reactions),model.slim_optimize())\n",
    "    model2 = model.copy()\n",
    "model2.id   = 'iEC1356_Bl21DE3_protein'\n",
    "model2.name = 'iEC1356_Bl21DE3 with protein synthesis'\n",
    "cobra.io.write_sbml_model(model2,'iEC1356_Bl21DE3_protein.xml')"
   ]
  },
  {
   "cell_type": "markdown",
   "id": "216c2551-435d-4b51-85df-2f8911f8597b",
   "metadata": {},
   "source": [
    "# Calculate Yields"
   ]
  },
  {
   "cell_type": "code",
   "execution_count": 8,
   "id": "5734d44e-1d2a-405f-8cda-4d6e758665f5",
   "metadata": {},
   "outputs": [],
   "source": [
    "model = cobra.io.read_sbml_model('iEC1356_Bl21DE3_protein.xml')"
   ]
  },
  {
   "cell_type": "markdown",
   "id": "24b0738d-897d-4ed3-beb4-c89e15abb084",
   "metadata": {},
   "source": [
    "# Y_(X/gly), Y_(X/O2)"
   ]
  },
  {
   "cell_type": "code",
   "execution_count": 9,
   "id": "ea43b328-0918-4d9f-b6df-3e794befc80d",
   "metadata": {},
   "outputs": [
    {
     "name": "stderr",
     "output_type": "stream",
     "text": [
      "WARNING:root:You are performing pFBA with the GLPK Solver. This can lead to inconsistent results.\n"
     ]
    }
   ],
   "source": [
    "with model as tmp:\n",
    "    # remove all C-influxes\n",
    "    snek.set_bounds(tmp,'EX_glc__D_e',lb=0,ub=1000)\n",
    "    snek.set_bounds(tmp,'EX_cbl1_e',lb=0,ub=1000)\n",
    "    # remove ATPM\n",
    "    snek.set_bounds(tmp,'ATPM',lb=0,ub=1000)\n",
    "    # set objective\n",
    "    snek.set_objective(tmp,'BIOMASS_Ec_iJO1366_core_53p95M','max')\n",
    "    # add glycerol influx\n",
    "    snek.set_bounds(tmp,'EX_glyc_e',lb=-10,ub=0)\n",
    "    # maximize and fix max value\n",
    "    max_ = tmp.slim_optimize()\n",
    "    snek.set_bounds(tmp,'BIOMASS_Ec_iJO1366_core_53p95M',lb=max_,ub=max_)\n",
    "    # set objective: min O2 consumption\n",
    "    snek.set_objective(tmp,'EX_o2_e','max')\n",
    "    # calculate pFBA\n",
    "    solution = snek.sensitive_optimize(model,pFBA=True)"
   ]
  },
  {
   "cell_type": "code",
   "execution_count": 10,
   "id": "58682b9f-e362-4d4b-bec1-12ad132a50d2",
   "metadata": {},
   "outputs": [
    {
     "name": "stdout",
     "output_type": "stream",
     "text": [
      "Y_(X/gly) =  0.627 g/g\n",
      "Y_(X/O2)  =  1.788 g/g\n"
     ]
    }
   ],
   "source": [
    "gly_rate = - solution['EX_glyc_e'] * model.metabolites.glyc_e.formula_weight / 1000 # g/(g h)\n",
    "o2_rate  = - solution['EX_o2_e']   * model.metabolites.o2_e.formula_weight   / 1000 # g/(g h)\n",
    "bm_rate  = solution['BIOMASS_Ec_iJO1366_core_53p95M'] # g/(g h) = 1/h\n",
    "\n",
    "print(f'Y_(X/gly) = {bm_rate/gly_rate:6.3f} g/g')\n",
    "print(f'Y_(X/O2)  = {bm_rate/o2_rate:6.3f} g/g')"
   ]
  },
  {
   "cell_type": "markdown",
   "id": "6d0db609-d120-4875-9163-66c077803cb4",
   "metadata": {},
   "source": [
    "# Y_(ATP/gly), Y_(ATP/O2)"
   ]
  },
  {
   "cell_type": "code",
   "execution_count": 11,
   "id": "61c395ad-a24d-4553-a7d7-885911beecff",
   "metadata": {},
   "outputs": [
    {
     "name": "stderr",
     "output_type": "stream",
     "text": [
      "WARNING:root:You are performing pFBA with the GLPK Solver. This can lead to inconsistent results.\n"
     ]
    }
   ],
   "source": [
    "with model as tmp:\n",
    "    # remove all C-influxes\n",
    "    snek.set_bounds(tmp,'EX_glc__D_e',lb=0,ub=1000)\n",
    "    snek.set_bounds(tmp,'EX_cbl1_e',lb=0,ub=1000)\n",
    "    # remove ATPM\n",
    "    snek.set_bounds(tmp,'ATPM',lb=0,ub=1000)\n",
    "    # set objective\n",
    "    snek.set_objective(tmp,'ATPM','max')\n",
    "    # add glycerol influx\n",
    "    snek.set_bounds(tmp,'EX_glyc_e',lb=-10,ub=0)\n",
    "    # maximize and fix max value\n",
    "    max_ = tmp.slim_optimize()\n",
    "    snek.set_bounds(tmp,'ATPM',lb=max_,ub=max_)\n",
    "    # set objective: min O2 consumption\n",
    "    snek.set_objective(tmp,'EX_o2_e','max')\n",
    "    # calculate pFBA\n",
    "    solution = snek.sensitive_optimize(model,pFBA=True)"
   ]
  },
  {
   "cell_type": "code",
   "execution_count": 12,
   "id": "0d3dc06f-4fb0-403d-941a-2bdb7fcc8483",
   "metadata": {},
   "outputs": [
    {
     "name": "stdout",
     "output_type": "stream",
     "text": [
      "Y_(ATP/gly) = 73.756 g/g\n",
      "Y_(ATP/O2)  = 60.650 g/g\n"
     ]
    }
   ],
   "source": [
    "gly_rate = - solution['EX_glyc_e'] * model.metabolites.glyc_e.formula_weight / 1000 # g/(g h)\n",
    "o2_rate  = - solution['EX_o2_e']   * model.metabolites.o2_e.formula_weight   / 1000 # g/(g h)\n",
    "bm_rate  =   solution['ATPM']      * model.metabolites.atp_c.formula_weight  / 1000 # g/(g h)\n",
    "\n",
    "print(f'Y_(ATP/gly) = {bm_rate/gly_rate:6.3f} g/g')\n",
    "print(f'Y_(ATP/O2)  = {bm_rate/o2_rate:6.3f} g/g')"
   ]
  },
  {
   "cell_type": "markdown",
   "id": "c64aec96-b602-490b-8000-a51cd7739061",
   "metadata": {},
   "source": [
    "# Y_(P/gly), Y_(P/O2)"
   ]
  },
  {
   "cell_type": "code",
   "execution_count": 13,
   "id": "48281460-f5b3-4dd5-995f-df28dafaa1c8",
   "metadata": {},
   "outputs": [
    {
     "name": "stderr",
     "output_type": "stream",
     "text": [
      "WARNING:root:You are performing pFBA with the GLPK Solver. This can lead to inconsistent results.\n"
     ]
    }
   ],
   "source": [
    "with model as tmp:\n",
    "    # remove all C-influxes\n",
    "    snek.set_bounds(tmp,'EX_glc__D_e',lb=0,ub=1000)\n",
    "    snek.set_bounds(tmp,'EX_cbl1_e',lb=0,ub=1000)\n",
    "    # remove ATPM\n",
    "    snek.set_bounds(tmp,'ATPM',lb=0,ub=1000)\n",
    "    # set objective\n",
    "    snek.set_objective(tmp,'protein_synthesis','max')\n",
    "    # add glycerol influx\n",
    "    snek.set_bounds(tmp,'EX_glyc_e',lb=-10,ub=0)\n",
    "    # maximize and fix max value\n",
    "    max_ = tmp.slim_optimize()\n",
    "    snek.set_bounds(tmp,'protein_synthesis',lb=max_,ub=max_)\n",
    "    # set objective: min O2 consumption\n",
    "    snek.set_objective(tmp,'EX_o2_e','max')\n",
    "    # calculate pFBA\n",
    "    solution = snek.sensitive_optimize(model,pFBA=True)"
   ]
  },
  {
   "cell_type": "code",
   "execution_count": 14,
   "id": "ae2128f5-364b-4ad3-881b-863452c0d801",
   "metadata": {},
   "outputs": [
    {
     "name": "stdout",
     "output_type": "stream",
     "text": [
      "Y_(P/gly) =  0.652 g/g\n",
      "Y_(P/O2)  =  2.501 g/g\n"
     ]
    }
   ],
   "source": [
    "gly_rate = - solution['EX_glyc_e'] * model.metabolites.glyc_e.formula_weight / 1000 # g/(g h)\n",
    "o2_rate  = - solution['EX_o2_e']   * model.metabolites.o2_e.formula_weight   / 1000 # g/(g h)\n",
    "bm_rate  =   solution['protein_synthesis']      * model.metabolites.protein_c.formula_weight  / 1000 # g/(g h)\n",
    "\n",
    "print(f'Y_(P/gly) = {bm_rate/gly_rate:6.3f} g/g')\n",
    "print(f'Y_(P/O2)  = {bm_rate/o2_rate:6.3f} g/g')"
   ]
  },
  {
   "cell_type": "code",
   "execution_count": null,
   "id": "c38dd7f6-2ede-4b00-b654-78b8a8d15966",
   "metadata": {},
   "outputs": [],
   "source": []
  }
 ],
 "metadata": {
  "kernelspec": {
   "display_name": "rpy",
   "language": "python",
   "name": "python3"
  },
  "language_info": {
   "codemirror_mode": {
    "name": "ipython",
    "version": 3
   },
   "file_extension": ".py",
   "mimetype": "text/x-python",
   "name": "python",
   "nbconvert_exporter": "python",
   "pygments_lexer": "ipython3",
   "version": "3.9.16"
  }
 },
 "nbformat": 4,
 "nbformat_minor": 5
}
